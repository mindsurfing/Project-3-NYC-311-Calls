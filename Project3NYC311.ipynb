{
 "cells": [
  {
   "cell_type": "code",
   "execution_count": 1,
   "id": "60d20835-1fa7-4b5c-ba39-8adb42fd9e49",
   "metadata": {
    "tags": []
   },
   "outputs": [],
   "source": [
    "# Import necessary libraries\n",
    "import pandas as pd\n",
    "from statsmodels.tsa.seasonal import seasonal_decompose\n",
    "from statsmodels.tsa.arima.model import ARIMA\n",
    "from sklearn.metrics import mean_squared_error\n",
    "\n",
    "# Read the pickle file into a DataFrame\n",
    "df = pd.read_pickle('shared/Project-3_NYC_311_Calls.pkl')\n",
    "\n",
    "# Extract relevant columns and convert 'Created Date' to datetime\n",
    "df['Created Date'] = pd.to_datetime(df['Created Date'])\n",
    "df = df.set_index('Created Date')[['Unique Key', 'Complaint Type']]\n",
    "\n",
    "# Resample the data to a daily series\n",
    "daily_series = df.resample('D').count()['Unique Key']"
   ]
  },
  {
   "cell_type": "code",
   "execution_count": 2,
   "id": "599ebc61-d5da-46f1-87d0-f1e5840259d6",
   "metadata": {
    "tags": []
   },
   "outputs": [
    {
     "name": "stdout",
     "output_type": "stream",
     "text": [
      "Average number of daily complaints received in 2022: 8684\n"
     ]
    }
   ],
   "source": [
    "# Question 1\n",
    "average_daily_complaints_2022 = daily_series['2022'].mean()\n",
    "print(\"Average number of daily complaints received in 2022:\", round(average_daily_complaints_2022))"
   ]
  },
  {
   "cell_type": "code",
   "execution_count": 3,
   "id": "f5204ba0-4e7b-45b4-8f0e-60762fb21d12",
   "metadata": {},
   "outputs": [
    {
     "name": "stdout",
     "output_type": "stream",
     "text": [
      "Date with the maximum number of calls: 2020-08-04 00:00:00\n"
     ]
    }
   ],
   "source": [
    "# Question 2\n",
    "max_calls_date = daily_series.idxmax()\n",
    "print(\"Date with the maximum number of calls:\", max_calls_date)"
   ]
  },
  {
   "cell_type": "code",
   "execution_count": 4,
   "id": "d5599619-2f41-4606-8214-034f2b3b39e2",
   "metadata": {},
   "outputs": [
    {
     "name": "stdout",
     "output_type": "stream",
     "text": [
      "Most important complaint type on the date with the maximum number of calls: Damaged Tree\n"
     ]
    }
   ],
   "source": [
    "# Question 3\n",
    "max_calls_complaint_type = df[df.index.date == max_calls_date.date()]['Complaint Type'].value_counts().idxmax()\n",
    "print(\"Most important complaint type on the date with the maximum number of calls:\", max_calls_complaint_type)"
   ]
  },
  {
   "cell_type": "code",
   "execution_count": 5,
   "id": "073c3a80-0cbc-43b0-a019-b5f62ac34128",
   "metadata": {},
   "outputs": [
    {
     "name": "stdout",
     "output_type": "stream",
     "text": [
      "Quietest month: Aug\n"
     ]
    }
   ],
   "source": [
    "# Question 4\n",
    "quietest_month = daily_series.resample('M').sum().idxmin().strftime('%b')\n",
    "print(\"Quietest month:\", quietest_month)"
   ]
  },
  {
   "cell_type": "code",
   "execution_count": 6,
   "id": "b2601a7d-6a15-4e29-8366-b1cd4f44c31e",
   "metadata": {},
   "outputs": [
    {
     "name": "stdout",
     "output_type": "stream",
     "text": [
      "Value of the seasonal component on 2020-12-25: 183\n"
     ]
    }
   ],
   "source": [
    "# Question 5\n",
    "result = seasonal_decompose(daily_series, model='additive')\n",
    "seasonal_component_20201225 = result.seasonal['2020-12-25']\n",
    "print(\"Value of the seasonal component on 2020-12-25:\", round(seasonal_component_20201225))\n"
   ]
  },
  {
   "cell_type": "code",
   "execution_count": 7,
   "id": "a050fab7-fb5b-4787-9ac6-0d8c134bc96f",
   "metadata": {},
   "outputs": [
    {
     "name": "stdout",
     "output_type": "stream",
     "text": [
      "Autocorrelation of the number of daily calls with the number of calls the day prior: 0.75\n"
     ]
    }
   ],
   "source": [
    "# Question 6\n",
    "autocorrelation = daily_series.autocorr(1)\n",
    "print(\"Autocorrelation of the number of daily calls with the number of calls the day prior:\", round(autocorrelation, 2))"
   ]
  },
  {
   "cell_type": "code",
   "execution_count": 8,
   "id": "77208e48-f298-49fa-a76a-a4606309ba14",
   "metadata": {},
   "outputs": [
    {
     "name": "stdout",
     "output_type": "stream",
     "text": [
      "RMSE on the test set: 1279\n"
     ]
    },
    {
     "name": "stderr",
     "output_type": "stream",
     "text": [
      "/opt/conda/envs/mggy8413/lib/python3.10/site-packages/statsmodels/tsa/statespace/representation.py:374: FutureWarning: Unknown keyword arguments: dict_keys(['typ']).Passing unknown keyword arguments will raise a TypeError beginning in version 0.15.\n",
      "  warnings.warn(msg, FutureWarning)\n"
     ]
    }
   ],
   "source": [
    "# Question 7 - Using ARIMA for forecasting\n",
    "train_size = len(daily_series) - 90\n",
    "train, test = daily_series.iloc[:train_size], daily_series.iloc[train_size:]\n",
    "\n",
    "# Fit the ARIMA model\n",
    "order = (5, 1, 0)  # Example order, you may need to fine-tune\n",
    "model = ARIMA(train, order=order)\n",
    "model_fit = model.fit()\n",
    "\n",
    "# Make predictions for the test set\n",
    "forecast = model_fit.predict(start=len(train), end=len(train) + len(test) - 1, typ='levels')\n",
    "\n",
    "# Calculate RMSE\n",
    "rmse = mean_squared_error(test, forecast, squared=False)\n",
    "print(\"RMSE on the test set:\", round(rmse))"
   ]
  },
  {
   "cell_type": "code",
   "execution_count": null,
   "id": "f7d90f2c-0585-4aca-a4e5-5aa50f27e151",
   "metadata": {},
   "outputs": [],
   "source": []
  }
 ],
 "metadata": {
  "kernelspec": {
   "display_name": "Python [conda env:mggy8413]",
   "language": "python",
   "name": "conda-env-mggy8413-py"
  },
  "language_info": {
   "codemirror_mode": {
    "name": "ipython",
    "version": 3
   },
   "file_extension": ".py",
   "mimetype": "text/x-python",
   "name": "python",
   "nbconvert_exporter": "python",
   "pygments_lexer": "ipython3",
   "version": "3.10.12"
  }
 },
 "nbformat": 4,
 "nbformat_minor": 5
}
